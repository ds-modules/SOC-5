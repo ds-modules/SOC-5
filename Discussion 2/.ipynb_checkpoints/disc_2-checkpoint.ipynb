{
 "cells": [
  {
   "cell_type": "markdown",
   "metadata": {},
   "source": [
    "# Soc 5 Spring 2019\n",
    "\n",
    "## Discussion 2: Analyzing Quantitative Data II\n",
    "\n",
    "Estimated time: 40 minutes"
   ]
  },
  {
   "cell_type": "markdown",
   "metadata": {},
   "source": [
    "**Before you begin, run the following cell to load the packages needed for the rest of the notebook**"
   ]
  },
  {
   "cell_type": "code",
   "execution_count": 1,
   "metadata": {},
   "outputs": [],
   "source": [
    "# RUN THIS CELL or the notebook will not work properly\n",
    "%run Data/functions.py\n",
    "%matplotlib inline\n",
    "from scipy import stats\n",
    "import matplotlib.pyplot as plt\n",
    "from ipywidgets import interact, interactive, fixed, interact_manual\n",
    "import ipywidgets as widgets"
   ]
  },
  {
   "cell_type": "markdown",
   "metadata": {},
   "source": [
    "## Introduction\n",
    "\n",
    "In this discussion, you will learn how to interpret both quantitative and qualitative data through the chi-square statistic, t tests, linear regression, and the $r$ statistic."
   ]
  },
  {
   "cell_type": "markdown",
   "metadata": {},
   "source": [
    "### The Data <a id='data'></a>\n",
    "\n",
    "In this notebook, we'll be revisiting the GSS 2014 data that you saw in Discussion 1. Let's first load in the data."
   ]
  },
  {
   "cell_type": "code",
   "execution_count": 2,
   "metadata": {
    "scrolled": true
   },
   "outputs": [
    {
     "data": {
      "text/html": [
       "<table border=\"1\" class=\"dataframe\">\n",
       "    <thead>\n",
       "        <tr>\n",
       "            <th>CASEID</th> <th>SEX</th> <th>EDUC</th> <th>AGE</th> <th>NATEDUC</th> <th>NATFARE</th> <th>NATROAD</th> <th>NATMASS</th> <th>NATHEAL</th> <th>NATENVIR</th>\n",
       "        </tr>\n",
       "    </thead>\n",
       "    <tbody>\n",
       "        <tr>\n",
       "            <td>58649 </td> <td>1   </td> <td>0   </td> <td>41  </td> <td>1      </td> <td>1      </td> <td>1      </td> <td>1      </td> <td>1      </td> <td>1       </td>\n",
       "        </tr>\n",
       "        <tr>\n",
       "            <td>58007 </td> <td>2   </td> <td>0   </td> <td>78  </td> <td>1      </td> <td>1      </td> <td>2      </td> <td>3      </td> <td>1      </td> <td>3       </td>\n",
       "        </tr>\n",
       "        <tr>\n",
       "            <td>58356 </td> <td>2   </td> <td>1   </td> <td>34  </td> <td>1      </td> <td>1      </td> <td>2      </td> <td>2      </td> <td>2      </td> <td>1       </td>\n",
       "        </tr>\n",
       "        <tr>\n",
       "            <td>57246 </td> <td>2   </td> <td>3   </td> <td>56  </td> <td>1      </td> <td>1      </td> <td>2      </td> <td>1      </td> <td>2      </td> <td>1       </td>\n",
       "        </tr>\n",
       "        <tr>\n",
       "            <td>58427 </td> <td>1   </td> <td>5   </td> <td>38  </td> <td>1      </td> <td>2      </td> <td>2      </td> <td>1      </td> <td>1      </td> <td>2       </td>\n",
       "        </tr>\n",
       "        <tr>\n",
       "            <td>59067 </td> <td>1   </td> <td>5   </td> <td>64  </td> <td>1      </td> <td>1      </td> <td>1      </td> <td>1      </td> <td>1      </td> <td>1       </td>\n",
       "        </tr>\n",
       "        <tr>\n",
       "            <td>57446 </td> <td>1   </td> <td>6   </td> <td>39  </td> <td>1      </td> <td>2      </td> <td>2      </td> <td>2      </td> <td>2      </td> <td>2       </td>\n",
       "        </tr>\n",
       "        <tr>\n",
       "            <td>57633 </td> <td>1   </td> <td>6   </td> <td>55  </td> <td>1      </td> <td>1      </td> <td>2      </td> <td>2      </td> <td>1      </td> <td>1       </td>\n",
       "        </tr>\n",
       "        <tr>\n",
       "            <td>57913 </td> <td>1   </td> <td>6   </td> <td>50  </td> <td>1      </td> <td>2      </td> <td>3      </td> <td>2      </td> <td>1      </td> <td>1       </td>\n",
       "        </tr>\n",
       "        <tr>\n",
       "            <td>58127 </td> <td>1   </td> <td>6   </td> <td>59  </td> <td>1      </td> <td>3      </td> <td>2      </td> <td>2      </td> <td>1      </td> <td>1       </td>\n",
       "        </tr>\n",
       "    </tbody>\n",
       "</table>\n",
       "<p>... (1525 rows omitted)</p>"
      ],
      "text/plain": [
       "CASEID | SEX  | EDUC | AGE  | NATEDUC | NATFARE | NATROAD | NATMASS | NATHEAL | NATENVIR\n",
       "58649  | 1    | 0    | 41   | 1       | 1       | 1       | 1       | 1       | 1\n",
       "58007  | 2    | 0    | 78   | 1       | 1       | 2       | 3       | 1       | 3\n",
       "58356  | 2    | 1    | 34   | 1       | 1       | 2       | 2       | 2       | 1\n",
       "57246  | 2    | 3    | 56   | 1       | 1       | 2       | 1       | 2       | 1\n",
       "58427  | 1    | 5    | 38   | 1       | 2       | 2       | 1       | 1       | 2\n",
       "59067  | 1    | 5    | 64   | 1       | 1       | 1       | 1       | 1       | 1\n",
       "57446  | 1    | 6    | 39   | 1       | 2       | 2       | 2       | 2       | 2\n",
       "57633  | 1    | 6    | 55   | 1       | 1       | 2       | 2       | 1       | 1\n",
       "57913  | 1    | 6    | 50   | 1       | 2       | 3       | 2       | 1       | 1\n",
       "58127  | 1    | 6    | 59   | 1       | 3       | 2       | 2       | 1       | 1\n",
       "... (1525 rows omitted)"
      ]
     },
     "execution_count": 2,
     "metadata": {},
     "output_type": "execute_result"
    }
   ],
   "source": [
    "gss_survey_data = Table.read_table(\"GSS_2014_cleaned.csv\")\n",
    "gss_survey_data"
   ]
  },
  {
   "cell_type": "markdown",
   "metadata": {},
   "source": [
    "### The Codebook"
   ]
  },
  {
   "attachments": {},
   "cell_type": "markdown",
   "metadata": {},
   "source": [
    "Take a look at the `GSS 2014 codebook` PDF file to review what these variables mean. The file is contained within the \"Data\" folder, which is in the same folder as this notebook. \n",
    "\n",
    "If your browser has problems opening the PDF, try downloading it to your computer. To do this:\n",
    "\n",
    "1. Navigate inside the Data folder\n",
    "2. Check the box next to the `GSS 2014 codebook.pdf` file\n",
    "3. Click the \"Download\" button on the top toolbar"
   ]
  },
  {
   "cell_type": "markdown",
   "metadata": {},
   "source": [
    "---"
   ]
  },
  {
   "cell_type": "markdown",
   "metadata": {},
   "source": [
    "## Section 1: Chi-Square Statistic  <a id='section 1'></a>"
   ]
  },
  {
   "cell_type": "markdown",
   "metadata": {},
   "source": [
    "Here, we are going to learn how to interpret the Chi-Square Statistic.\n",
    "\n",
    "In this particular example, we will find the Chi-Square Statistic between the responses to NATMASS vs NATENVIR. From intuition, we expect that people who voted for more money spend on mass transportation would also support improving and protecting the environment. We can see if that is the case my looking at the Chi-Square Statistic.\n",
    "\n",
    "Firstly, we have to construct a contingency table of the 2 attributes (NATMASS and NATENVIR):"
   ]
  },
  {
   "cell_type": "code",
   "execution_count": 3,
   "metadata": {},
   "outputs": [
    {
     "data": {
      "text/html": [
       "<table border=\"1\" class=\"dataframe\">\n",
       "    <thead>\n",
       "        <tr>\n",
       "            <th>NATENVIR</th> <th>1 (NATMASS)</th> <th>2 (NATMASS)</th> <th>3 (NATMASS)</th> <th>total (NATMASS)</th>\n",
       "        </tr>\n",
       "    </thead>\n",
       "    <tbody>\n",
       "        <tr>\n",
       "            <td>1 (NATENVIR)    </td> <td>419        </td> <td>455        </td> <td>55         </td> <td>929            </td>\n",
       "        </tr>\n",
       "        <tr>\n",
       "            <td>2 (NATENVIR)    </td> <td>152        </td> <td>282        </td> <td>38         </td> <td>472            </td>\n",
       "        </tr>\n",
       "        <tr>\n",
       "            <td>3 (NATENVIR)    </td> <td>39         </td> <td>58         </td> <td>37         </td> <td>134            </td>\n",
       "        </tr>\n",
       "        <tr>\n",
       "            <td>total (NATENVIR)</td> <td>610        </td> <td>795        </td> <td>130        </td> <td>1535           </td>\n",
       "        </tr>\n",
       "    </tbody>\n",
       "</table>"
      ],
      "text/plain": [
       "NATENVIR         | 1 (NATMASS) | 2 (NATMASS) | 3 (NATMASS) | total (NATMASS)\n",
       "1 (NATENVIR)     | 419         | 455         | 55          | 929\n",
       "2 (NATENVIR)     | 152         | 282         | 38          | 472\n",
       "3 (NATENVIR)     | 39          | 58          | 37          | 134\n",
       "total (NATENVIR) | 610         | 795         | 130         | 1535"
      ]
     },
     "execution_count": 3,
     "metadata": {},
     "output_type": "execute_result"
    }
   ],
   "source": [
    "contigTable = generate_3x3_contingency_table(gss_survey_data, \"NATMASS\", \"NATENVIR\")\n",
    "contigTable"
   ]
  },
  {
   "cell_type": "markdown",
   "metadata": {},
   "source": [
    "The columns of the table correspond to the score a respondant gave for NATMASS, and the rows correspond to the score a respondant gave for NATENVIR. Each cell correspond to the total number of people who voted with the specific answers to NATMASS and NATENVIR.\n",
    "\n",
    "Before we calculate the chi-squared statistic, lets first see the expected distribution of this table:"
   ]
  },
  {
   "cell_type": "code",
   "execution_count": 4,
   "metadata": {},
   "outputs": [
    {
     "data": {
      "text/html": [
       "<table border=\"1\" class=\"dataframe\">\n",
       "    <thead>\n",
       "        <tr>\n",
       "            <th>NATENVIR</th> <th>1 (NATMASS)</th> <th>2 (NATMASS)</th> <th>3 (NATMASS)</th> <th>total (NATMASS)</th>\n",
       "        </tr>\n",
       "    </thead>\n",
       "    <tbody>\n",
       "        <tr>\n",
       "            <td>1 (NATENVIR)    </td> <td>369.179    </td> <td>481.143    </td> <td>78.6775    </td> <td>929            </td>\n",
       "        </tr>\n",
       "        <tr>\n",
       "            <td>2 (NATENVIR)    </td> <td>187.57     </td> <td>244.456    </td> <td>39.9739    </td> <td>472            </td>\n",
       "        </tr>\n",
       "        <tr>\n",
       "            <td>3 (NATENVIR)    </td> <td>53.2508    </td> <td>69.4007    </td> <td>11.3485    </td> <td>134            </td>\n",
       "        </tr>\n",
       "        <tr>\n",
       "            <td>total (NATENVIR)</td> <td>610        </td> <td>795        </td> <td>130        </td> <td>1535           </td>\n",
       "        </tr>\n",
       "    </tbody>\n",
       "</table>"
      ],
      "text/plain": [
       "NATENVIR         | 1 (NATMASS) | 2 (NATMASS) | 3 (NATMASS) | total (NATMASS)\n",
       "1 (NATENVIR)     | 369.179     | 481.143     | 78.6775     | 929\n",
       "2 (NATENVIR)     | 187.57      | 244.456     | 39.9739     | 472\n",
       "3 (NATENVIR)     | 53.2508     | 69.4007     | 11.3485     | 134\n",
       "total (NATENVIR) | 610         | 795         | 130         | 1535"
      ]
     },
     "execution_count": 4,
     "metadata": {},
     "output_type": "execute_result"
    }
   ],
   "source": [
    "expected = find_expected_dist(contigTable, \"NATMASS\", \"NATENVIR\")\n",
    "expected"
   ]
  },
  {
   "cell_type": "markdown",
   "metadata": {},
   "source": [
    "The expected distributions is dictated under the Null Hypothesis, which assumes that there is no correlation between the 2 attributes. In order to prove/disprove the Null Hypothesis, lets solve for the Chi-Square Statistic! <br><br>\n",
    "(You do not need to know how we solve for the statistic, but just know how to interpret it!)"
   ]
  },
  {
   "cell_type": "code",
   "execution_count": 5,
   "metadata": {},
   "outputs": [
    {
     "name": "stdout",
     "output_type": "stream",
     "text": [
      "chi-squared statistic = 91.5457976538473\n",
      "degrees of freedom = 4\n"
     ]
    }
   ],
   "source": [
    "chi_squared, degree_freedom = find_chi_square(contigTable)\n",
    "\n",
    "print(\"chi-squared statistic = \" + str(chi_squared))\n",
    "print(\"degrees of freedom = \" + str(degree_freedom))"
   ]
  },
  {
   "cell_type": "markdown",
   "metadata": {},
   "source": [
    "The critical chi-squared statistic for a 0.05 probability level (p value) and a degree of freedom of 4 is 9.488. \n",
    "Knowing this, is there a significant correlation between NATENVIR and NATMASS? Explain your answer. "
   ]
  },
  {
   "cell_type": "markdown",
   "metadata": {},
   "source": [
    "**Answer:** ..."
   ]
  },
  {
   "cell_type": "markdown",
   "metadata": {},
   "source": [
    "Explain why the degrees of freedom is 4."
   ]
  },
  {
   "cell_type": "markdown",
   "metadata": {},
   "source": [
    "**Answer:** ..."
   ]
  },
  {
   "cell_type": "markdown",
   "metadata": {},
   "source": [
    "---"
   ]
  },
  {
   "cell_type": "markdown",
   "metadata": {},
   "source": [
    "## Section 2: T-tests <a id='section 2'></a>"
   ]
  },
  {
   "cell_type": "markdown",
   "metadata": {},
   "source": [
    "Here, we are going to learn how to use t-tests for differences in means. \n",
    "\n",
    "In this example, we will be looking at the differences between the female and the male responses (, or more specifically, their responses to NATFARE). \n",
    "\n",
    "Our Null Hypothesis would be that there should be no significant difference between the 2 groups' responses to NATFARE, whereas the Alternative Hypothesis is that this is a significant difference between the 2 groups' responses to NATFARE."
   ]
  },
  {
   "cell_type": "code",
   "execution_count": 6,
   "metadata": {},
   "outputs": [
    {
     "name": "stdout",
     "output_type": "stream",
     "text": [
      "female sample size = 807\n"
     ]
    },
    {
     "data": {
      "text/html": [
       "<table border=\"1\" class=\"dataframe\">\n",
       "    <thead>\n",
       "        <tr>\n",
       "            <th>category (female)</th> <th>mean</th> <th>standard deviation</th>\n",
       "        </tr>\n",
       "    </thead>\n",
       "    <tbody>\n",
       "        <tr>\n",
       "            <td>NATEDUC          </td> <td>1.28996</td> <td>0.56339           </td>\n",
       "        </tr>\n",
       "        <tr>\n",
       "            <td>NATFARE          </td> <td>2.2689 </td> <td>0.79235           </td>\n",
       "        </tr>\n",
       "        <tr>\n",
       "            <td>NATROAD          </td> <td>1.70012</td> <td>0.7               </td>\n",
       "        </tr>\n",
       "        <tr>\n",
       "            <td>NATMASS          </td> <td>1.71499</td> <td>0.601988          </td>\n",
       "        </tr>\n",
       "        <tr>\n",
       "            <td>NATHEAL          </td> <td>1.51177</td> <td>0.717664          </td>\n",
       "        </tr>\n",
       "        <tr>\n",
       "            <td>NATENVIR         </td> <td>1.48203</td> <td>0.638975          </td>\n",
       "        </tr>\n",
       "    </tbody>\n",
       "</table>"
      ],
      "text/plain": [
       "category (female) | mean    | standard deviation\n",
       "NATEDUC           | 1.28996 | 0.56339\n",
       "NATFARE           | 2.2689  | 0.79235\n",
       "NATROAD           | 1.70012 | 0.7\n",
       "NATMASS           | 1.71499 | 0.601988\n",
       "NATHEAL           | 1.51177 | 0.717664\n",
       "NATENVIR          | 1.48203 | 0.638975"
      ]
     },
     "execution_count": 6,
     "metadata": {},
     "output_type": "execute_result"
    }
   ],
   "source": [
    "columns_of_interest = [\"NATEDUC\", \"NATFARE\", \"NATROAD\", \"NATMASS\", \"NATHEAL\", \"NATENVIR\"]\n",
    "\n",
    "females = gss_survey_data.where(\"SEX\", are.equal_to(2))\n",
    "\n",
    "means_female = generate_means_table(females, columns_of_interest)\n",
    "means_female.relabel(\"category\", \"category (female)\")\n",
    "\n",
    "print(\"female sample size = \" + str(females.num_rows))\n",
    "means_female"
   ]
  },
  {
   "cell_type": "code",
   "execution_count": 7,
   "metadata": {
    "scrolled": true
   },
   "outputs": [
    {
     "name": "stdout",
     "output_type": "stream",
     "text": [
      "male sample size = 728\n"
     ]
    },
    {
     "data": {
      "text/html": [
       "<table border=\"1\" class=\"dataframe\">\n",
       "    <thead>\n",
       "        <tr>\n",
       "            <th>category (male)</th> <th>mean</th> <th>standard deviation</th>\n",
       "        </tr>\n",
       "    </thead>\n",
       "    <tbody>\n",
       "        <tr>\n",
       "            <td>NATEDUC        </td> <td>1.36401</td> <td>0.602806          </td>\n",
       "        </tr>\n",
       "        <tr>\n",
       "            <td>NATFARE        </td> <td>2.24588</td> <td>0.769426          </td>\n",
       "        </tr>\n",
       "        <tr>\n",
       "            <td>NATROAD        </td> <td>1.53846</td> <td>0.645061          </td>\n",
       "        </tr>\n",
       "        <tr>\n",
       "            <td>NATMASS        </td> <td>1.65659</td> <td>0.637807          </td>\n",
       "        </tr>\n",
       "        <tr>\n",
       "            <td>NATHEAL        </td> <td>1.55082</td> <td>0.709162          </td>\n",
       "        </tr>\n",
       "        <tr>\n",
       "            <td>NATENVIR       </td> <td>1.48214</td> <td>0.664822          </td>\n",
       "        </tr>\n",
       "    </tbody>\n",
       "</table>"
      ],
      "text/plain": [
       "category (male) | mean    | standard deviation\n",
       "NATEDUC         | 1.36401 | 0.602806\n",
       "NATFARE         | 2.24588 | 0.769426\n",
       "NATROAD         | 1.53846 | 0.645061\n",
       "NATMASS         | 1.65659 | 0.637807\n",
       "NATHEAL         | 1.55082 | 0.709162\n",
       "NATENVIR        | 1.48214 | 0.664822"
      ]
     },
     "execution_count": 7,
     "metadata": {},
     "output_type": "execute_result"
    }
   ],
   "source": [
    "males = gss_survey_data.where(\"SEX\", are.equal_to(1))\n",
    "\n",
    "means_male = generate_means_table(males, columns_of_interest)\n",
    "means_male.relabel(\"category\", \"category (male)\")\n",
    "\n",
    "print(\"male sample size = \" + str(males.num_rows))\n",
    "means_male"
   ]
  },
  {
   "cell_type": "markdown",
   "metadata": {},
   "source": [
    "As you can see from the tables above, the 2 tables seperate out the male responses from the female responses, and averages all their responses in both groups. However, we will only be looking at the NATFARE's mean and standard deviation in calculating the t value.\n",
    "\n",
    "(again, you do not need to know how we solve for the statistic, but just know how to interpret it!)"
   ]
  },
  {
   "cell_type": "code",
   "execution_count": 8,
   "metadata": {
    "scrolled": true
   },
   "outputs": [
    {
     "name": "stdout",
     "output_type": "stream",
     "text": [
      "t value = 0.018828604485708306\n"
     ]
    }
   ],
   "source": [
    "t = generate_t_value(means_female, means_male, females.num_rows, males.num_rows, \"NATFARE\")\n",
    "\n",
    "print(\"t value = \" + str(t))"
   ]
  },
  {
   "cell_type": "markdown",
   "metadata": {},
   "source": [
    "The critical t value for siginificance level of 0.05 and degrees of freedom of 1533 (= total female sample + total male sample - 2) is 1.645848. Knowing this, what can we say about our null hypothesis?"
   ]
  },
  {
   "cell_type": "markdown",
   "metadata": {},
   "source": [
    "**Answer:** ..."
   ]
  },
  {
   "cell_type": "markdown",
   "metadata": {},
   "source": [
    "---"
   ]
  },
  {
   "cell_type": "markdown",
   "metadata": {},
   "source": [
    "## Section 3: Linear Regression <a id='section 3'></a>"
   ]
  },
  {
   "attachments": {
    "pearson-r.png": {
     "image/png": "[encoded data removed]"
    }
   },
   "cell_type": "markdown",
   "metadata": {},
   "source": [
    "Here, we are going to learn how to interpret the linear regression line and its R-statistic (also known as the r value or the Pearson r statistic).\n",
    "\n",
    "![pearson-r.png](attachment:pearson-r.png)\n",
    "\n",
    "Here we have a nice diagram outlining different types of r values. From the picture, we can see that a set of data with a positive slope (positive correlation) will have a positive r value, and vice versa. Also, the closer the data is to the line, the further the r value is from 0; if the data has basically no correlation, the r value equals 0."
   ]
  },
  {
   "cell_type": "markdown",
   "metadata": {},
   "source": [
    "In this example, we will see if there is a correlation between AGE and EDUC. The codebox below will make a scatter plot of the 2 attributes:"
   ]
  },
  {
   "cell_type": "code",
   "execution_count": 9,
   "metadata": {},
   "outputs": [
    {
     "data": {
      "image/png": "[encoded data removed]",
      "text/plain": [
       "<Figure size 432x288 with 1 Axes>"
      ]
     },
     "metadata": {
      "needs_background": "light"
     },
     "output_type": "display_data"
    }
   ],
   "source": [
    "plt.scatter(gss_survey_data[\"AGE\"], gss_survey_data[\"EDUC\"])\n",
    "plt.xlabel('AGE')\n",
    "plt.ylabel('EDUC')\n",
    "plt.show()"
   ]
  },
  {
   "cell_type": "markdown",
   "metadata": {},
   "source": [
    "Well, things aren't looking too good; it seems like there is very little correlation between the respondant's age and their education level. We can still try to find the best fit line and find its corresponding value:"
   ]
  },
  {
   "cell_type": "code",
   "execution_count": 10,
   "metadata": {},
   "outputs": [
    {
     "name": "stdout",
     "output_type": "stream",
     "text": [
      "regression line : y=0.006933189184531947x + 13.564512011776326\n",
      "r value = 0.038030881150196545\n"
     ]
    },
    {
     "data": {
      "image/png": "[encoded data removed]",
      "text/plain": [
       "<Figure size 432x288 with 1 Axes>"
      ]
     },
     "metadata": {
      "needs_background": "light"
     },
     "output_type": "display_data"
    }
   ],
   "source": [
    "m, c, r_value, p_value, std_err = stats.linregress(gss_survey_data[\"AGE\"], gss_survey_data[\"EDUC\"])\n",
    "\n",
    "plt.plot(gss_survey_data[\"AGE\"], gss_survey_data[\"EDUC\"], 'o', label='Original data')\n",
    "plt.plot(gss_survey_data[\"AGE\"], m*gss_survey_data[\"AGE\"] + c, 'r', label='Fitted line')\n",
    "\n",
    "print(\"regression line : y=\" + str(m) +\"x + \" + str(c))\n",
    "print(\"r value = \"+ str(r_value))\n",
    "plt.xlabel('AGE')\n",
    "plt.ylabel('EDUC')\n",
    "plt.show()"
   ]
  },
  {
   "cell_type": "markdown",
   "metadata": {},
   "source": [
    "From what you know about the Pearson r statistic, what can you say about the data given the r value? Also, is the plot contrary to what you expect? Explain your answers."
   ]
  },
  {
   "cell_type": "markdown",
   "metadata": {},
   "source": [
    "**Answer:** ..."
   ]
  },
  {
   "cell_type": "markdown",
   "metadata": {},
   "source": [
    "Since the correlation between AGE and EDUC is not great, lets look at something else. \n",
    "\n",
    "Lets now try grouping the table by EDUC, then plotting the mean of their NATEDUC for each group. As a reminder, NATEDUC stands for their view on how much money should be provided to improving the nation's education system."
   ]
  },
  {
   "cell_type": "code",
   "execution_count": 11,
   "metadata": {
    "scrolled": true
   },
   "outputs": [
    {
     "data": {
      "image/png": "[encoded data removed]",
      "text/plain": [
       "<Figure size 432x288 with 1 Axes>"
      ]
     },
     "metadata": {
      "needs_background": "light"
     },
     "output_type": "display_data"
    }
   ],
   "source": [
    "grouped_educ = gss_survey_data.group(\"EDUC\", np.mean)\n",
    "plt.scatter(grouped_educ[\"EDUC\"], grouped_educ[\"NATEDUC mean\"])\n",
    "plt.xlabel('EDUC')\n",
    "plt.ylabel('mean NATEDUC')\n",
    "plt.show()"
   ]
  },
  {
   "cell_type": "markdown",
   "metadata": {},
   "source": [
    "Immediately, we can see that there is a much better correlation between EDUC and the mean NATEDUC for each level of education. Now it's your turn to experiment and try to find the line of best fit! Below is an interactive plot that allows you to control the slope and y-intercept of a line, and its your job to try to find the best line that minimizes the error that printed under the plot!\n",
    "\n",
    "The plot may take some time to load, so be patient with it :)\n",
    "\n",
    "Play around with the plot and try your best to minimize the error; you don't have to be exact! "
   ]
  },
  {
   "cell_type": "code",
   "execution_count": 12,
   "metadata": {},
   "outputs": [
    {
     "data": {
      "application/vnd.jupyter.widget-view+json": {
       "model_id": "d4ce8028d74a4b3f9cd5d10ce7a13377",
       "version_major": 2,
       "version_minor": 0
      },
      "text/plain": [
       "interactive(children=(FloatSlider(value=-0.025, description='m', max=0.0, min=-0.05, step=0.001), FloatSlider(…"
      ]
     },
     "metadata": {},
     "output_type": "display_data"
    }
   ],
   "source": [
    "@interact(m=(-5/100, 0, 1/1000), c=(1.6, 2, 1/100))\n",
    "def g(m, c):\n",
    "    est = m*grouped_educ[\"EDUC\"] + c\n",
    "    plt.plot(grouped_educ[\"EDUC\"], grouped_educ[\"NATEDUC mean\"], 'o', label='Original data')\n",
    "    plt.plot(grouped_educ[\"EDUC\"], est, 'r', label='Fitted line')\n",
    "    plt.xlabel('EDUC')\n",
    "    plt.ylabel('mean NATEDUC')\n",
    "    plt.show()\n",
    "    \n",
    "    error = ((grouped_educ[\"NATEDUC mean\"] - (m*grouped_educ[\"EDUC\"] + c))**2).mean()\n",
    "    \n",
    "    print(\"y = \"+str(m)+\"x+\"+str(c))\n",
    "    print(\"error = \"+str(error))\n",
    "    return"
   ]
  },
  {
   "cell_type": "markdown",
   "metadata": {},
   "source": [
    "Now let's calculate the true line of best fit, and the corresponding error and r value."
   ]
  },
  {
   "cell_type": "code",
   "execution_count": 13,
   "metadata": {
    "scrolled": true
   },
   "outputs": [
    {
     "name": "stdout",
     "output_type": "stream",
     "text": [
      "regression line : y=-0.0173075319239169x + 1.574827814793762\n",
      "error = 0.05483313586695303\n",
      "\n",
      "r value = -0.4013120226007003\n"
     ]
    },
    {
     "data": {
      "image/png": "[encoded data removed]",
      "text/plain": [
       "<Figure size 432x288 with 1 Axes>"
      ]
     },
     "metadata": {
      "needs_background": "light"
     },
     "output_type": "display_data"
    }
   ],
   "source": [
    "m_i, c_i, r_value, p_value, std_err = stats.linregress(grouped_educ[\"EDUC\"], grouped_educ[\"NATEDUC mean\"])\n",
    "plt.plot(grouped_educ[\"EDUC\"], grouped_educ[\"NATEDUC mean\"], 'o', label='Original data')\n",
    "plt.plot(grouped_educ[\"EDUC\"], m_i*grouped_educ[\"EDUC\"] + c_i, 'r', label='Fitted line')\n",
    "\n",
    "error = ((grouped_educ[\"NATEDUC mean\"] - (m_i*grouped_educ[\"EDUC\"] + c_i))**2).mean()\n",
    "print(\"regression line : y=\" + str(m_i) +\"x + \" + str(c_i))\n",
    "print(\"error = \" + str(error))\n",
    "print()\n",
    "print(\"r value = \"+ str(r_value))\n",
    "plt.show()"
   ]
  },
  {
   "cell_type": "markdown",
   "metadata": {},
   "source": [
    "How close was your line in the interactive plot to the true best fit line? Given the r value, what can you say about the data?"
   ]
  },
  {
   "cell_type": "markdown",
   "metadata": {},
   "source": [
    "**Answer:** ..."
   ]
  },
  {
   "cell_type": "markdown",
   "metadata": {},
   "source": [
    "## Bibliography"
   ]
  },
  {
   "cell_type": "markdown",
   "metadata": {},
   "source": [
    "- Pearson Product-Moment Correlation (picture). https://statistics.laerd.com/statistical-guides/pearson-correlation-coefficient-statistical-guide.php"
   ]
  },
  {
   "cell_type": "markdown",
   "metadata": {},
   "source": [
    "Notebook developed by: William Sheu\n",
    "\n",
    "Data Science Modules: http://data.berkeley.edu/education/modules"
   ]
  }
 ],
 "metadata": {
  "anaconda-cloud": {},
  "kernelspec": {
   "display_name": "Python 3",
   "language": "python",
   "name": "python3"
  },
  "language_info": {
   "codemirror_mode": {
    "name": "ipython",
    "version": 3
   },
   "file_extension": ".py",
   "mimetype": "text/x-python",
   "name": "python",
   "nbconvert_exporter": "python",
   "pygments_lexer": "ipython3",
   "version": "3.6.7"
  }
 },
 "nbformat": 4,
 "nbformat_minor": 1
}
