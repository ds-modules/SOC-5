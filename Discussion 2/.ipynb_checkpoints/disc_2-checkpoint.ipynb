{
 "cells": [
  {
   "cell_type": "markdown",
   "metadata": {},
   "source": [
    "# Soc 5 Spring 2019\n",
    "\n",
    "## Discussion 2: Analyzing Quantitative Data II\n",
    "\n",
    "Estimated time: 40 minutes"
   ]
  },
  {
   "cell_type": "markdown",
   "metadata": {},
   "source": [
    "**Before you begin, run the following two cells to load the packages needed for the rest of the notebook**"
   ]
  },
  {
   "cell_type": "code",
   "execution_count": null,
   "metadata": {},
   "outputs": [],
   "source": [
    "# RUN THIS CELL or the notebook will not work properly\n",
    "!pip install numpy\n",
    "!pip install scipy\n",
    "!pip install matplotlib\n",
    "!pip install datascience\n",
    "!pip install pandas"
   ]
  },
  {
   "cell_type": "code",
   "execution_count": null,
   "metadata": {},
   "outputs": [],
   "source": [
    "# RUN THIS CELL or the notebook will not work properly\n",
    "%run Data/functions.py\n",
    "%matplotlib inline\n",
    "from scipy import stats\n",
    "import matplotlib.pyplot as plt\n",
    "from ipywidgets import interact, interactive, fixed, interact_manual\n",
    "import ipywidgets as widgets"
   ]
  },
  {
   "cell_type": "markdown",
   "metadata": {},
   "source": [
    "## Introduction\n",
    "\n",
    "In this discussion, you will learn how to interpret both quantitative and qualitative data through the Chi-Square statistic, T-tests, linear regression, and the $r$ statistic."
   ]
  },
  {
   "cell_type": "markdown",
   "metadata": {},
   "source": [
    "### The Data <a id='data'></a>\n",
    "\n",
    "In this notebook, we'll be revisiting the GSS 2014 data that you saw in Discussion 1. Let's first load in the data."
   ]
  },
  {
   "cell_type": "code",
   "execution_count": null,
   "metadata": {
    "scrolled": true
   },
   "outputs": [],
   "source": [
    "gss_survey_data = Table.read_table(\"Data/GSS_2014_cleaned.csv\")\n",
    "gss_survey_data"
   ]
  },
  {
   "cell_type": "markdown",
   "metadata": {},
   "source": [
    "### The Codebook"
   ]
  },
  {
   "cell_type": "markdown",
   "metadata": {},
   "source": [
    "Take a look at the `GSS 2014 codebook` PDF file to review what these variables mean. The file is contained within the \"Data\" folder, which is in the same folder as this notebook. \n",
    "\n",
    "If your browser has problems opening the PDF, try downloading it to your computer. To do this:\n",
    "\n",
    "1. Navigate inside the Data folder\n",
    "2. Check the box next to the `GSS 2014 codebook.pdf` file\n",
    "3. Click the \"Download\" button on the top toolbar"
   ]
  },
  {
   "cell_type": "markdown",
   "metadata": {},
   "source": [
    "---"
   ]
  },
  {
   "cell_type": "markdown",
   "metadata": {},
   "source": [
    "## Section 1: Chi-Square Statistic  <a id='section 1'></a>"
   ]
  },
  {
   "cell_type": "markdown",
   "metadata": {},
   "source": [
    "Here, we are going to learn how to interpret the Chi-Square Statistic.\n",
    "\n",
    "In this particular example, we will find the Chi-Square Statistic between the responses to NATMASS vs NATENVIR. From intuition, we expect that people who voted for more money spend on mass transportation would also support improving and protecting the environment. We can see if that is the case by looking at the Chi-Square Statistic.\n",
    "\n",
    "Firstly, we have to construct a contingency table of the 2 attributes (NATMASS and NATENVIR):"
   ]
  },
  {
   "cell_type": "code",
   "execution_count": null,
   "metadata": {},
   "outputs": [],
   "source": [
    "contigTable = generate_3x3_contingency_table(gss_survey_data, \"NATMASS\", \"NATENVIR\")\n",
    "contigTable"
   ]
  },
  {
   "cell_type": "markdown",
   "metadata": {},
   "source": [
    "The columns of the table correspond to the score a respondant gave for NATMASS, and the rows correspond to the score a respondant gave for NATENVIR. Each cell corresponds to the total number of people who voted with the specific answers to NATMASS and NATENVIR.\n",
    "\n",
    "Before we calculate the chi-squared statistic, let's first see the expected distribution of this table:"
   ]
  },
  {
   "cell_type": "code",
   "execution_count": null,
   "metadata": {},
   "outputs": [],
   "source": [
    "find_expected_dist(contigTable, \"NATMASS\", \"NATENVIR\")"
   ]
  },
  {
   "cell_type": "code",
   "execution_count": null,
   "metadata": {},
   "outputs": [],
   "source": [
    "expected = find_expected_dist(contigTable, \"NATMASS\", \"NATENVIR\")\n",
    "expected"
   ]
  },
  {
   "cell_type": "markdown",
   "metadata": {},
   "source": [
    "The expected distribution is dictated under the Null Hypothesis, which assumes that there is no significant relationship between the 2 attributes. If we want to disprove the Null Hypothesis, we will have use the Chi-Square Statistic! <br><br>\n",
    "(You do not need to know how we solve for the statistic, but just know how to interpret it!)"
   ]
  },
  {
   "cell_type": "code",
   "execution_count": null,
   "metadata": {},
   "outputs": [],
   "source": [
    "chi_squared, degree_freedom = find_chi_square(contigTable)\n",
    "\n",
    "print(\"chi-squared statistic = \" + str(chi_squared))\n",
    "print(\"degrees of freedom = \" + str(degree_freedom))"
   ]
  },
  {
   "cell_type": "markdown",
   "metadata": {},
   "source": [
    "The p-value for the Chi-Square Statistic above (with 4 degrees of freedom) less than .0001. \n",
    "Knowing this, is there a significant relationship between NATENVIR and NATMASS? Explain your answer. "
   ]
  },
  {
   "cell_type": "markdown",
   "metadata": {},
   "source": [
    "**Answer:** ..."
   ]
  },
  {
   "cell_type": "markdown",
   "metadata": {},
   "source": [
    "Explain why the degrees of freedom is 4."
   ]
  },
  {
   "cell_type": "markdown",
   "metadata": {},
   "source": [
    "**Answer:** ..."
   ]
  },
  {
   "cell_type": "markdown",
   "metadata": {},
   "source": [
    "---"
   ]
  },
  {
   "cell_type": "markdown",
   "metadata": {},
   "source": [
    "## Section 2: T-tests <a id='section 2'></a>"
   ]
  },
  {
   "cell_type": "markdown",
   "metadata": {},
   "source": [
    "Here, we are going to learn how to use t-tests for differences in means. \n",
    "\n",
    "In this example, we will be looking at the differences between the female and the male responses (or more specifically, their responses to NATFARE). \n",
    "\n",
    "Our Null Hypothesis would be that there should be no significant difference between the 2 groups' responses to NATFARE, whereas the Alternative Hypothesis is that there exists a significant difference between the 2 groups' responses to NATFARE."
   ]
  },
  {
   "cell_type": "code",
   "execution_count": null,
   "metadata": {},
   "outputs": [],
   "source": [
    "columns_of_interest = [\"NATEDUC\", \"NATFARE\", \"NATROAD\", \"NATMASS\", \"NATHEAL\", \"NATENVIR\"]\n",
    "\n",
    "females = gss_survey_data.where(\"SEX\", are.equal_to(2))\n",
    "\n",
    "means_female = generate_means_table(females, columns_of_interest)\n",
    "means_female.relabel(\"category\", \"category (female)\")\n",
    "\n",
    "print(\"female sample size = \" + str(females.num_rows))\n",
    "means_female"
   ]
  },
  {
   "cell_type": "code",
   "execution_count": null,
   "metadata": {
    "scrolled": true
   },
   "outputs": [],
   "source": [
    "males = gss_survey_data.where(\"SEX\", are.equal_to(1))\n",
    "\n",
    "means_male = generate_means_table(males, columns_of_interest)\n",
    "means_male.relabel(\"category\", \"category (male)\")\n",
    "\n",
    "print(\"male sample size = \" + str(males.num_rows))\n",
    "means_male"
   ]
  },
  {
   "cell_type": "markdown",
   "metadata": {},
   "source": [
    "As you can see above, the 2 tables seperate out the male responses from the female responses, and averages all their responses in both groups. However, we will only be looking at the NATFARE's mean and standard deviation in calculating the t value.\n",
    "\n",
    "(again, you do not need to know how we solve for the statistic, but just know how to interpret it!)"
   ]
  },
  {
   "cell_type": "code",
   "execution_count": null,
   "metadata": {
    "scrolled": true
   },
   "outputs": [],
   "source": [
    "t = generate_t_value(means_female, means_male, females.num_rows, males.num_rows, \"NATFARE\")\n",
    "\n",
    "print(\"t value = \" + str(t))"
   ]
  },
  {
   "cell_type": "markdown",
   "metadata": {},
   "source": [
    "The p-value for this t-Stat above (with 1533 degrees of freedom (= total female sample + total male sample - 2)) is .51. \n",
    "\n",
    "Knowing this, what can we say about our null hypothesis?"
   ]
  },
  {
   "cell_type": "markdown",
   "metadata": {},
   "source": [
    "**Answer:** ..."
   ]
  },
  {
   "cell_type": "markdown",
   "metadata": {},
   "source": [
    "---"
   ]
  },
  {
   "cell_type": "markdown",
   "metadata": {},
   "source": [
    "## Section 3: Linear Regression <a id='section 3'></a>"
   ]
  },
  {
   "attachments": {
    "pearson-r.png": {
     "image/png": "[encoded data removed]"
    }
   },
   "cell_type": "markdown",
   "metadata": {},
   "source": [
    "Here, we are going to learn how to interpret the linear regression line and its R-statistic (also known as the $r$ value or the Pearson correlation coefficient).\n",
    "\n",
    "![pearson-r.png](attachment:pearson-r.png)\n",
    "\n",
    "Here we have a nice diagram outlining different types of $r$ values. From the picture, we can see that a set of data with a positive slope (positive correlation) will have a positive $r$ value, and vice versa. Also, the closer the data is to the line, the further the r value is from 0; if the data has basically no correlation, the $r$ value equals 0."
   ]
  },
  {
   "cell_type": "markdown",
   "metadata": {},
   "source": [
    "In this example, we will see if there is a correlation between AGE and EDUC. The code below will make a scatter plot of the 2 attributes:"
   ]
  },
  {
   "cell_type": "code",
   "execution_count": null,
   "metadata": {},
   "outputs": [],
   "source": [
    "plt.scatter(gss_survey_data.column(\"AGE\"), gss_survey_data.column(\"EDUC\"), alpha=.2)\n",
    "plt.xlabel('AGE')\n",
    "plt.ylabel('EDUC')\n",
    "plt.show()"
   ]
  },
  {
   "cell_type": "markdown",
   "metadata": {},
   "source": [
    "Well, things aren't looking too good; It's very difficult to spot the correlation, if any, between EDUC and AGE. We can still try to find the best fit line and find its corresponding value:"
   ]
  },
  {
   "cell_type": "code",
   "execution_count": null,
   "metadata": {},
   "outputs": [],
   "source": [
    "m, c, r_value, p_value, std_err = stats.linregress(gss_survey_data[\"AGE\"], gss_survey_data[\"EDUC\"])\n",
    "\n",
    "plt.plot(gss_survey_data[\"AGE\"], gss_survey_data[\"EDUC\"], 'o', label='Original data')\n",
    "plt.plot(gss_survey_data[\"AGE\"], m*gss_survey_data[\"AGE\"] + c, 'r', label='Fitted line')\n",
    "\n",
    "print(\"regression line : y=\" + str(m) +\"x + \" + str(c))\n",
    "print(\"r value = \"+ str(r_value))\n",
    "plt.xlabel('AGE')\n",
    "plt.ylabel('EDUC')\n",
    "plt.show()"
   ]
  },
  {
   "cell_type": "markdown",
   "metadata": {},
   "source": [
    "From what you know about the Pearson $r$ statistic, what can you say about the data, given the $r$ value? Also, is the plot contrary to what you expect? Explain your answers."
   ]
  },
  {
   "cell_type": "markdown",
   "metadata": {},
   "source": [
    "**Answer:** ..."
   ]
  },
  {
   "cell_type": "markdown",
   "metadata": {},
   "source": [
    "Since the correlation between AGE and EDUC is not great, let's look at something else. \n",
    "\n",
    "Let's now try grouping the table by EDUC, then plotting the mean of their NATEDUC for each group. As a reminder, NATEDUC stands for their view on how much money should be provided to improving the nation's education system."
   ]
  },
  {
   "cell_type": "code",
   "execution_count": null,
   "metadata": {},
   "outputs": [],
   "source": [
    "grouped_educ = gss_survey_data.group(\"EDUC\", np.mean)\n",
    "grouped_educ"
   ]
  },
  {
   "cell_type": "code",
   "execution_count": null,
   "metadata": {
    "scrolled": true
   },
   "outputs": [],
   "source": [
    "plt.scatter(grouped_educ[\"EDUC\"], grouped_educ[\"NATEDUC mean\"])\n",
    "plt.xlabel('EDUC')\n",
    "plt.ylabel('mean NATEDUC')\n",
    "plt.show()"
   ]
  },
  {
   "cell_type": "markdown",
   "metadata": {},
   "source": [
    "Immediately, we can see that there is a much better correlation between EDUC and the mean NATEDUC for each level of education. Now it's your turn to experiment and try to find the line of best fit! Remember that the line of best-fit is the line that minimizes the errors (the distances between the line and the points).\n",
    "\n",
    "Below is an interactive plot that allows you to control the slope and y-intercept of a line, and it's your job to try to find the best line that minimizes the error that printed under the plot!\n",
    "\n",
    "The plot may take some time to load, so be patient with it :)\n",
    "\n",
    "Play around with the plot and try your best to minimize the error; you don't have to be exact! "
   ]
  },
  {
   "cell_type": "code",
   "execution_count": null,
   "metadata": {},
   "outputs": [],
   "source": [
    "@interact(m=(-5/100, 0, 1/1000), c=(1.6, 2, 1/100))\n",
    "def g(m, c):\n",
    "    est = m*grouped_educ[\"EDUC\"] + c\n",
    "    plt.plot(grouped_educ[\"EDUC\"], grouped_educ[\"NATEDUC mean\"], 'o', label='Original data')\n",
    "    plt.plot(grouped_educ[\"EDUC\"], est, 'r', label='Fitted line')\n",
    "    plt.xlabel('EDUC')\n",
    "    plt.ylabel('mean NATEDUC')\n",
    "    plt.show()\n",
    "    \n",
    "    error = ((grouped_educ[\"NATEDUC mean\"] - (m*grouped_educ[\"EDUC\"] + c))**2).mean()\n",
    "    \n",
    "    print(\"y = \"+str(m)+\"x+\"+str(c))\n",
    "    print(\"error = \"+str(error))\n",
    "    return"
   ]
  },
  {
   "cell_type": "markdown",
   "metadata": {},
   "source": [
    "Now let's calculate the true line of best fit, and the corresponding error and $r$ value."
   ]
  },
  {
   "cell_type": "code",
   "execution_count": null,
   "metadata": {
    "scrolled": true
   },
   "outputs": [],
   "source": [
    "m_i, c_i, r_value, p_value, std_err = stats.linregress(grouped_educ[\"EDUC\"], grouped_educ[\"NATEDUC mean\"])\n",
    "plt.plot(grouped_educ[\"EDUC\"], grouped_educ[\"NATEDUC mean\"], 'o', label='Original data')\n",
    "plt.plot(grouped_educ[\"EDUC\"], m_i*grouped_educ[\"EDUC\"] + c_i, 'r', label='Fitted line')\n",
    "\n",
    "error = ((grouped_educ[\"NATEDUC mean\"] - (m_i*grouped_educ[\"EDUC\"] + c_i))**2).mean()\n",
    "print(\"regression line : y=\" + str(m_i) +\"x + \" + str(c_i))\n",
    "print(\"error = \" + str(error))\n",
    "print()\n",
    "print(\"r value = \"+ str(r_value))\n",
    "plt.show()"
   ]
  },
  {
   "cell_type": "markdown",
   "metadata": {},
   "source": [
    "How close was your line in the interactive plot to the true best fit line? Given the $r$ value, what can you say about the data?"
   ]
  },
  {
   "cell_type": "markdown",
   "metadata": {},
   "source": [
    "**Answer:** ..."
   ]
  },
  {
   "cell_type": "markdown",
   "metadata": {},
   "source": [
    "## Bibliography"
   ]
  },
  {
   "cell_type": "markdown",
   "metadata": {},
   "source": [
    "- Pearson Product-Moment Correlation (picture). https://statistics.laerd.com/statistical-guides/pearson-correlation-coefficient-statistical-guide.php"
   ]
  },
  {
   "cell_type": "markdown",
   "metadata": {},
   "source": [
    "Notebook developed by: William Sheu\n",
    "\n",
    "Data Science Modules: http://data.berkeley.edu/education/modules"
   ]
  }
 ],
 "metadata": {
  "anaconda-cloud": {},
  "kernelspec": {
   "display_name": "Python 3",
   "language": "python",
   "name": "python3"
  },
  "language_info": {
   "codemirror_mode": {
    "name": "ipython",
    "version": 3
   },
   "file_extension": ".py",
   "mimetype": "text/x-python",
   "name": "python",
   "nbconvert_exporter": "python",
   "pygments_lexer": "ipython3",
   "version": "3.6.7"
  }
 },
 "nbformat": 4,
 "nbformat_minor": 1
}
