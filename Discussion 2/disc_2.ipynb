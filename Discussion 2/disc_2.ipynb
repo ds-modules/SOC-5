{
 "cells": [
  {
   "cell_type": "markdown",
   "metadata": {},
   "source": [
    "# [SOC-5] Analysis of Quantitative Data Discussion\n",
    "\n",
    "---\n",
    "\n",
    "*Estimated Time: 50 minutes*\n",
    "\n",
    "---\n",
    "\n",
    "### Topics Covered\n",
    "- Chi-Square Statistic\n",
    "- t Tests\n",
    "- Linear Least-squares Regression\n",
    "    - R Statistic\n",
    "\n",
    "### Table of Contents\n",
    "\n",
    "[The Data](GSS 2014 data)<br>\n",
    "\n",
    "[Context]<br>\n",
    "\n",
    "1 - [Section 1](Chi-Square Statistic)<br>\n",
    "\n",
    "2 - [Section 2](t Tests)<br>\n",
    "\n",
    "3 - [Section 3](Linear Least-squares Regression)<br>"
   ]
  },
  {
   "cell_type": "code",
   "execution_count": 1,
   "metadata": {},
   "outputs": [],
   "source": [
    "from datascience import *\n",
    "%matplotlib inline\n",
    "from scipy import stats\n",
    "import numpy as np\n",
    "import matplotlib.pyplot as plt\n",
    "from ipywidgets import interact, interactive, fixed, interact_manual\n",
    "import ipywidgets as widgets"
   ]
  },
  {
   "cell_type": "markdown",
   "metadata": {},
   "source": [
    "---\n",
    "\n",
    "## The Data <a id='data'></a>\n",
    "Explanation of the data the students will be working with. \n",
    "\n",
    "<b>Example</b>: In this notebook, you'll be working with ..............\n"
   ]
  },
  {
   "cell_type": "code",
   "execution_count": 2,
   "metadata": {
    "scrolled": true
   },
   "outputs": [
    {
     "data": {
      "text/html": [
       "<table border=\"1\" class=\"dataframe\">\n",
       "    <thead>\n",
       "        <tr>\n",
       "            <th>CASEID</th> <th>SEX</th> <th>EDUC</th> <th>AGE</th> <th>NATEDUC</th> <th>NATFARE</th> <th>NATROAD</th> <th>NATMASS</th> <th>NATHEAL</th> <th>NATENVIR</th>\n",
       "        </tr>\n",
       "    </thead>\n",
       "    <tbody>\n",
       "        <tr>\n",
       "            <td>58649 </td> <td>1   </td> <td>0   </td> <td>41  </td> <td>1      </td> <td>1      </td> <td>1      </td> <td>1      </td> <td>1      </td> <td>1       </td>\n",
       "        </tr>\n",
       "        <tr>\n",
       "            <td>58007 </td> <td>2   </td> <td>0   </td> <td>78  </td> <td>1      </td> <td>1      </td> <td>2      </td> <td>3      </td> <td>1      </td> <td>3       </td>\n",
       "        </tr>\n",
       "        <tr>\n",
       "            <td>58356 </td> <td>2   </td> <td>1   </td> <td>34  </td> <td>1      </td> <td>1      </td> <td>2      </td> <td>2      </td> <td>2      </td> <td>1       </td>\n",
       "        </tr>\n",
       "        <tr>\n",
       "            <td>57246 </td> <td>2   </td> <td>3   </td> <td>56  </td> <td>1      </td> <td>1      </td> <td>2      </td> <td>1      </td> <td>2      </td> <td>1       </td>\n",
       "        </tr>\n",
       "        <tr>\n",
       "            <td>58427 </td> <td>1   </td> <td>5   </td> <td>38  </td> <td>1      </td> <td>2      </td> <td>2      </td> <td>1      </td> <td>1      </td> <td>2       </td>\n",
       "        </tr>\n",
       "        <tr>\n",
       "            <td>59067 </td> <td>1   </td> <td>5   </td> <td>64  </td> <td>1      </td> <td>1      </td> <td>1      </td> <td>1      </td> <td>1      </td> <td>1       </td>\n",
       "        </tr>\n",
       "        <tr>\n",
       "            <td>57446 </td> <td>1   </td> <td>6   </td> <td>39  </td> <td>1      </td> <td>2      </td> <td>2      </td> <td>2      </td> <td>2      </td> <td>2       </td>\n",
       "        </tr>\n",
       "        <tr>\n",
       "            <td>57633 </td> <td>1   </td> <td>6   </td> <td>55  </td> <td>1      </td> <td>1      </td> <td>2      </td> <td>2      </td> <td>1      </td> <td>1       </td>\n",
       "        </tr>\n",
       "        <tr>\n",
       "            <td>57913 </td> <td>1   </td> <td>6   </td> <td>50  </td> <td>1      </td> <td>2      </td> <td>3      </td> <td>2      </td> <td>1      </td> <td>1       </td>\n",
       "        </tr>\n",
       "        <tr>\n",
       "            <td>58127 </td> <td>1   </td> <td>6   </td> <td>59  </td> <td>1      </td> <td>3      </td> <td>2      </td> <td>2      </td> <td>1      </td> <td>1       </td>\n",
       "        </tr>\n",
       "    </tbody>\n",
       "</table>\n",
       "<p>... (1525 rows omitted)</p>"
      ],
      "text/plain": [
       "CASEID | SEX  | EDUC | AGE  | NATEDUC | NATFARE | NATROAD | NATMASS | NATHEAL | NATENVIR\n",
       "58649  | 1    | 0    | 41   | 1       | 1       | 1       | 1       | 1       | 1\n",
       "58007  | 2    | 0    | 78   | 1       | 1       | 2       | 3       | 1       | 3\n",
       "58356  | 2    | 1    | 34   | 1       | 1       | 2       | 2       | 2       | 1\n",
       "57246  | 2    | 3    | 56   | 1       | 1       | 2       | 1       | 2       | 1\n",
       "58427  | 1    | 5    | 38   | 1       | 2       | 2       | 1       | 1       | 2\n",
       "59067  | 1    | 5    | 64   | 1       | 1       | 1       | 1       | 1       | 1\n",
       "57446  | 1    | 6    | 39   | 1       | 2       | 2       | 2       | 2       | 2\n",
       "57633  | 1    | 6    | 55   | 1       | 1       | 2       | 2       | 1       | 1\n",
       "57913  | 1    | 6    | 50   | 1       | 2       | 3       | 2       | 1       | 1\n",
       "58127  | 1    | 6    | 59   | 1       | 3       | 2       | 2       | 1       | 1\n",
       "... (1525 rows omitted)"
      ]
     },
     "execution_count": 2,
     "metadata": {},
     "output_type": "execute_result"
    }
   ],
   "source": [
    "gss_survey_data = Table.read_table(\"Data/GSS_2014_data.csv\")\n",
    "\n",
    "gss_survey_data = gss_survey_data.where(\"AGE\", are.between('0','89'))\n",
    "gss_survey_data = gss_survey_data.where(\"SEX\", are.between_or_equal_to('1','2'))\n",
    "gss_survey_data = gss_survey_data.where(\"EDUC\", are.between_or_equal_to('0','96'))\n",
    "gss_survey_data = gss_survey_data.where(\"NATEDUC\", are.between_or_equal_to('1','4'))\n",
    "gss_survey_data = gss_survey_data.where(\"NATFARE\", are.between_or_equal_to('1','4'))\n",
    "gss_survey_data = gss_survey_data.where(\"NATROAD\", are.between_or_equal_to('1','4'))\n",
    "gss_survey_data = gss_survey_data.where(\"NATMASS\", are.between_or_equal_to('1','4'))\n",
    "gss_survey_data = gss_survey_data.where(\"NATHEAL\", are.between_or_equal_to('1','4'))\n",
    "gss_survey_data = gss_survey_data.where(\"NATENVIR\", are.between_or_equal_to('1','4'))\n",
    "\n",
    "for label in gss_survey_data.labels:\n",
    "    gss_survey_data = gss_survey_data.with_column(label, gss_survey_data.column(label).astype(int))\n",
    "    \n",
    "gss_survey_data"
   ]
  },
  {
   "cell_type": "markdown",
   "metadata": {},
   "source": [
    "## Section 1: Chi-Square Statistic  <a id='section 1'></a>"
   ]
  },
  {
   "cell_type": "markdown",
   "metadata": {},
   "source": [
    "Intro to section 1 here."
   ]
  },
  {
   "cell_type": "code",
   "execution_count": 3,
   "metadata": {},
   "outputs": [
    {
     "data": {
      "text/html": [
       "<table border=\"1\" class=\"dataframe\">\n",
       "    <thead>\n",
       "        <tr>\n",
       "            <th>NATENVIR</th> <th>1</th> <th>2</th> <th>3</th> <th>total</th>\n",
       "        </tr>\n",
       "    </thead>\n",
       "    <tbody>\n",
       "        <tr>\n",
       "            <td>1       </td> <td>419 </td> <td>455 </td> <td>55  </td> <td>929  </td>\n",
       "        </tr>\n",
       "        <tr>\n",
       "            <td>2       </td> <td>152 </td> <td>282 </td> <td>38  </td> <td>472  </td>\n",
       "        </tr>\n",
       "        <tr>\n",
       "            <td>3       </td> <td>39  </td> <td>58  </td> <td>37  </td> <td>134  </td>\n",
       "        </tr>\n",
       "        <tr>\n",
       "            <td>total   </td> <td>610 </td> <td>795 </td> <td>130 </td> <td>1535 </td>\n",
       "        </tr>\n",
       "    </tbody>\n",
       "</table>"
      ],
      "text/plain": [
       "NATENVIR | 1    | 2    | 3    | total\n",
       "1        | 419  | 455  | 55   | 929\n",
       "2        | 152  | 282  | 38   | 472\n",
       "3        | 39   | 58   | 37   | 134\n",
       "total    | 610  | 795  | 130  | 1535"
      ]
     },
     "execution_count": 3,
     "metadata": {},
     "output_type": "execute_result"
    }
   ],
   "source": [
    "contigTable = gss_survey_data.groups([\"NATMASS\", \"NATENVIR\"]).pivot(\"NATMASS\", \"NATENVIR\", values=\"count\", collect=np.sum)\n",
    "contigTable = contigTable.with_column(\"total\", [np.sum(list(contigTable.row(n))[1:]) for n in np.arange(0, len(contigTable)-1)])\n",
    "contigTable = contigTable.with_row([\"total\", 610, 795, 130, 1535])\n",
    "contigTable"
   ]
  },
  {
   "cell_type": "code",
   "execution_count": 4,
   "metadata": {},
   "outputs": [
    {
     "name": "stdout",
     "output_type": "stream",
     "text": [
      "chi-squared statistic = 91.5457976538473\n",
      "degrees of freedom = 4\n"
     ]
    }
   ],
   "source": [
    "expected = [[contigTable.column(\"total\")[row]*(contigTable.column(col)[3]/1535) for col in [\"1\", \"2\", \"3\"]] for row in [0, 1, 2]]\n",
    "observed = [[contigTable.column(col)[row] for col in [\"1\", \"2\", \"3\"]] for row in [0, 1, 2]]\n",
    "expected = np.concatenate(expected).ravel()\n",
    "observed = np.concatenate(observed).ravel()\n",
    "\n",
    "chi_squared = np.sum((expected-observed)**2/expected)\n",
    "degree_freedom = 4\n",
    "\n",
    "print(\"chi-squared statistic = \" + str(chi_squared))\n",
    "print(\"degrees of freedom = \" + str(degree_freedom))"
   ]
  },
  {
   "cell_type": "markdown",
   "metadata": {},
   "source": [
    "The critical chi-squared statistic for a 0.05 probability level (p value) and a degree of freedom of 4 is 9.488. Knowing this, is there a significant correlation between NATENVIR and NATMASS? Explain your answer."
   ]
  },
  {
   "cell_type": "markdown",
   "metadata": {},
   "source": [
    "---"
   ]
  },
  {
   "cell_type": "markdown",
   "metadata": {},
   "source": [
    "## Section 2: t tests <a id='section 2'></a>"
   ]
  },
  {
   "cell_type": "markdown",
   "metadata": {},
   "source": [
    "Intro to section 2 here."
   ]
  },
  {
   "cell_type": "code",
   "execution_count": 9,
   "metadata": {},
   "outputs": [
    {
     "name": "stdout",
     "output_type": "stream",
     "text": [
      "female sample size = 807\n"
     ]
    },
    {
     "data": {
      "text/html": [
       "<table border=\"1\" class=\"dataframe\">\n",
       "    <thead>\n",
       "        <tr>\n",
       "            <th>category (female)</th> <th>mean</th> <th>standard deviation</th>\n",
       "        </tr>\n",
       "    </thead>\n",
       "    <tbody>\n",
       "        <tr>\n",
       "            <td>NATEDUC          </td> <td>1.28996</td> <td>0.56339           </td>\n",
       "        </tr>\n",
       "        <tr>\n",
       "            <td>NATFARE          </td> <td>2.2689 </td> <td>0.79235           </td>\n",
       "        </tr>\n",
       "        <tr>\n",
       "            <td>NATROAD          </td> <td>1.70012</td> <td>0.7               </td>\n",
       "        </tr>\n",
       "        <tr>\n",
       "            <td>NATMASS          </td> <td>1.71499</td> <td>0.601988          </td>\n",
       "        </tr>\n",
       "        <tr>\n",
       "            <td>NATHEAL          </td> <td>1.51177</td> <td>0.717664          </td>\n",
       "        </tr>\n",
       "        <tr>\n",
       "            <td>NATENVIR         </td> <td>1.48203</td> <td>0.638975          </td>\n",
       "        </tr>\n",
       "    </tbody>\n",
       "</table>"
      ],
      "text/plain": [
       "category (female) | mean    | standard deviation\n",
       "NATEDUC           | 1.28996 | 0.56339\n",
       "NATFARE           | 2.2689  | 0.79235\n",
       "NATROAD           | 1.70012 | 0.7\n",
       "NATMASS           | 1.71499 | 0.601988\n",
       "NATHEAL           | 1.51177 | 0.717664\n",
       "NATENVIR          | 1.48203 | 0.638975"
      ]
     },
     "execution_count": 9,
     "metadata": {},
     "output_type": "execute_result"
    }
   ],
   "source": [
    "lst = [\"NATEDUC\", \"NATFARE\", \"NATROAD\", \"NATMASS\", \"NATHEAL\", \"NATENVIR\"]\n",
    "females = gss_survey_data.where(\"SEX\", are.equal_to(2))\n",
    "data = [females[col] for col in lst]\n",
    "mean_values = [np.mean(col) for col in data]\n",
    "std_values = [np.std(col) for col in data]\n",
    "means_female = Table().with_column(\"category (female)\", lst).with_columns(\"mean\", mean_values, \"standard deviation\", std_values)\n",
    "\n",
    "print(\"female sample size = \" + str(females.num_rows))\n",
    "means_female"
   ]
  },
  {
   "cell_type": "code",
   "execution_count": 10,
   "metadata": {
    "scrolled": true
   },
   "outputs": [
    {
     "name": "stdout",
     "output_type": "stream",
     "text": [
      "male sample size = 728\n"
     ]
    },
    {
     "data": {
      "text/html": [
       "<table border=\"1\" class=\"dataframe\">\n",
       "    <thead>\n",
       "        <tr>\n",
       "            <th>category (male)</th> <th>mean</th> <th>standard deviation</th>\n",
       "        </tr>\n",
       "    </thead>\n",
       "    <tbody>\n",
       "        <tr>\n",
       "            <td>NATEDUC        </td> <td>1.36401</td> <td>0.602806          </td>\n",
       "        </tr>\n",
       "        <tr>\n",
       "            <td>NATFARE        </td> <td>2.24588</td> <td>0.769426          </td>\n",
       "        </tr>\n",
       "        <tr>\n",
       "            <td>NATROAD        </td> <td>1.53846</td> <td>0.645061          </td>\n",
       "        </tr>\n",
       "        <tr>\n",
       "            <td>NATMASS        </td> <td>1.65659</td> <td>0.637807          </td>\n",
       "        </tr>\n",
       "        <tr>\n",
       "            <td>NATHEAL        </td> <td>1.55082</td> <td>0.709162          </td>\n",
       "        </tr>\n",
       "        <tr>\n",
       "            <td>NATENVIR       </td> <td>1.48214</td> <td>0.664822          </td>\n",
       "        </tr>\n",
       "    </tbody>\n",
       "</table>"
      ],
      "text/plain": [
       "category (male) | mean    | standard deviation\n",
       "NATEDUC         | 1.36401 | 0.602806\n",
       "NATFARE         | 2.24588 | 0.769426\n",
       "NATROAD         | 1.53846 | 0.645061\n",
       "NATMASS         | 1.65659 | 0.637807\n",
       "NATHEAL         | 1.55082 | 0.709162\n",
       "NATENVIR        | 1.48214 | 0.664822"
      ]
     },
     "execution_count": 10,
     "metadata": {},
     "output_type": "execute_result"
    }
   ],
   "source": [
    "males = gss_survey_data.where(\"SEX\", are.equal_to(1))\n",
    "data = [males[col] for col in lst]\n",
    "mean_values = [np.mean(col) for col in data]\n",
    "std_values = [np.std(col) for col in data]\n",
    "means_male = Table().with_column(\"category (male)\", lst).with_column(\"mean\", mean_values, \"standard deviation\", std_values)\n",
    "\n",
    "print(\"male sample size = \" + str(males.num_rows))\n",
    "means_male"
   ]
  },
  {
   "cell_type": "code",
   "execution_count": 11,
   "metadata": {
    "scrolled": true
   },
   "outputs": [
    {
     "name": "stdout",
     "output_type": "stream",
     "text": [
      "t value = -0.10907797999177248\n"
     ]
    }
   ],
   "source": [
    "s_p = ((females.num_rows - 1)*(0.56339)**2 + (males.num_rows - 1)*(0.602806)**2)/(males.num_rows + females.num_rows - 2)**.5\n",
    "t = (1.28996 - 1.36401)/(s_p*(1/females.num_rows + 1/males.num_rows)**.5)\n",
    "print(\"t value = \" + str(t))"
   ]
  },
  {
   "cell_type": "markdown",
   "metadata": {},
   "source": [
    "The critical t value for siginificance level of 0.05 and degrees of freedom of 1533 (= total female sample + total male sample - 2) is 1.645848. Knowing this, what can we say about our null hypothesis?"
   ]
  },
  {
   "cell_type": "markdown",
   "metadata": {},
   "source": [
    "## Section 3: Linear Regression <a id='section 3'></a>"
   ]
  },
  {
   "cell_type": "markdown",
   "metadata": {},
   "source": [
    "Intro to section 3 here."
   ]
  },
  {
   "cell_type": "markdown",
   "metadata": {},
   "source": [
    "### R statistic <a id='subsection 1'></a>"
   ]
  },
  {
   "cell_type": "markdown",
   "metadata": {},
   "source": [
    "Intro to subsection 1 here."
   ]
  },
  {
   "cell_type": "code",
   "execution_count": 17,
   "metadata": {},
   "outputs": [
    {
     "data": {
      "image/png": "[encoded data removed]",
      "text/plain": [
       "<Figure size 432x288 with 1 Axes>"
      ]
     },
     "metadata": {
      "needs_background": "light"
     },
     "output_type": "display_data"
    }
   ],
   "source": [
    "plt.scatter(gss_survey_data[\"EDUC\"], gss_survey_data[\"AGE\"])\n",
    "plt.show()"
   ]
  },
  {
   "cell_type": "code",
   "execution_count": 14,
   "metadata": {},
   "outputs": [
    {
     "name": "stdout",
     "output_type": "stream",
     "text": [
      "regression line : y=0.006933189184531947x + 13.564512011776326\n",
      "r value = 0.038030881150196545\n"
     ]
    },
    {
     "data": {
      "image/png": "[encoded data removed]",
      "text/plain": [
       "<Figure size 432x288 with 1 Axes>"
      ]
     },
     "metadata": {
      "needs_background": "light"
     },
     "output_type": "display_data"
    }
   ],
   "source": [
    "m, c, r_value, p_value, std_err = stats.linregress(gss_survey_data[\"AGE\"], gss_survey_data[\"EDUC\"])\n",
    "plt.plot(gss_survey_data[\"AGE\"], gss_survey_data[\"EDUC\"], 'o', label='Original data')\n",
    "plt.plot(gss_survey_data[\"AGE\"], m*gss_survey_data[\"AGE\"] + c, 'r', label='Fitted line')\n",
    "\n",
    "print(\"regression line : y=\" + str(m) +\"x + \" + str(c))\n",
    "print(\"r value = \"+ str(r_value))\n",
    "plt.show()"
   ]
  },
  {
   "cell_type": "code",
   "execution_count": 18,
   "metadata": {},
   "outputs": [
    {
     "data": {
      "text/html": [
       "<table border=\"1\" class=\"dataframe\">\n",
       "    <thead>\n",
       "        <tr>\n",
       "            <th>EDUC</th> <th>CASEID mean</th> <th>SEX mean</th> <th>AGE mean</th> <th>NATEDUC mean</th> <th>NATFARE mean</th> <th>NATROAD mean</th> <th>NATMASS mean</th> <th>NATHEAL mean</th> <th>NATENVIR mean</th>\n",
       "        </tr>\n",
       "    </thead>\n",
       "    <tbody>\n",
       "        <tr>\n",
       "            <td>0   </td> <td>58740.8    </td> <td>1.6     </td> <td>58.8    </td> <td>1.6         </td> <td>1.4         </td> <td>1.8         </td> <td>2.2         </td> <td>1.4         </td> <td>2.2          </td>\n",
       "        </tr>\n",
       "        <tr>\n",
       "            <td>1   </td> <td>58356      </td> <td>2       </td> <td>34      </td> <td>1           </td> <td>1           </td> <td>2           </td> <td>2           </td> <td>2           </td> <td>1            </td>\n",
       "        </tr>\n",
       "        <tr>\n",
       "            <td>3   </td> <td>57767.8    </td> <td>1.83333 </td> <td>61.3333 </td> <td>2           </td> <td>2.16667     </td> <td>2.33333     </td> <td>1.66667     </td> <td>1.83333     </td> <td>2            </td>\n",
       "        </tr>\n",
       "        <tr>\n",
       "            <td>4   </td> <td>59178      </td> <td>1       </td> <td>76      </td> <td>2           </td> <td>2           </td> <td>2           </td> <td>2           </td> <td>2           </td> <td>2            </td>\n",
       "        </tr>\n",
       "        <tr>\n",
       "            <td>5   </td> <td>57909.5    </td> <td>1.5     </td> <td>47      </td> <td>1.5         </td> <td>1.75        </td> <td>1.75        </td> <td>1.5         </td> <td>1.5         </td> <td>1.75         </td>\n",
       "        </tr>\n",
       "        <tr>\n",
       "            <td>6   </td> <td>57865.6    </td> <td>1.66667 </td> <td>47.1905 </td> <td>1.52381     </td> <td>2.09524     </td> <td>2.38095     </td> <td>1.95238     </td> <td>1.38095     </td> <td>1.47619      </td>\n",
       "        </tr>\n",
       "        <tr>\n",
       "            <td>7   </td> <td>58266.3    </td> <td>1       </td> <td>51.3333 </td> <td>1           </td> <td>2.33333     </td> <td>1           </td> <td>1.66667     </td> <td>1           </td> <td>1.66667      </td>\n",
       "        </tr>\n",
       "        <tr>\n",
       "            <td>8   </td> <td>58477.6    </td> <td>1.58824 </td> <td>49.6471 </td> <td>1.41176     </td> <td>2.23529     </td> <td>2           </td> <td>1.70588     </td> <td>1.58824     </td> <td>1.52941      </td>\n",
       "        </tr>\n",
       "        <tr>\n",
       "            <td>9   </td> <td>58652.6    </td> <td>1.36    </td> <td>50.48   </td> <td>1.6         </td> <td>2.32        </td> <td>1.84        </td> <td>1.88        </td> <td>1.44        </td> <td>1.56         </td>\n",
       "        </tr>\n",
       "        <tr>\n",
       "            <td>10  </td> <td>57912.2    </td> <td>1.53191 </td> <td>47.5106 </td> <td>1.25532     </td> <td>2.3617      </td> <td>1.76596     </td> <td>1.85106     </td> <td>1.48936     </td> <td>1.7234       </td>\n",
       "        </tr>\n",
       "    </tbody>\n",
       "</table>\n",
       "<p>... (10 rows omitted)</p>"
      ],
      "text/plain": [
       "EDUC | CASEID mean | SEX mean | AGE mean | NATEDUC mean | NATFARE mean | NATROAD mean | NATMASS mean | NATHEAL mean | NATENVIR mean\n",
       "0    | 58740.8     | 1.6      | 58.8     | 1.6          | 1.4          | 1.8          | 2.2          | 1.4          | 2.2\n",
       "1    | 58356       | 2        | 34       | 1            | 1            | 2            | 2            | 2            | 1\n",
       "3    | 57767.8     | 1.83333  | 61.3333  | 2            | 2.16667      | 2.33333      | 1.66667      | 1.83333      | 2\n",
       "4    | 59178       | 1        | 76       | 2            | 2            | 2            | 2            | 2            | 2\n",
       "5    | 57909.5     | 1.5      | 47       | 1.5          | 1.75         | 1.75         | 1.5          | 1.5          | 1.75\n",
       "6    | 57865.6     | 1.66667  | 47.1905  | 1.52381      | 2.09524      | 2.38095      | 1.95238      | 1.38095      | 1.47619\n",
       "7    | 58266.3     | 1        | 51.3333  | 1            | 2.33333      | 1            | 1.66667      | 1            | 1.66667\n",
       "8    | 58477.6     | 1.58824  | 49.6471  | 1.41176      | 2.23529      | 2            | 1.70588      | 1.58824      | 1.52941\n",
       "9    | 58652.6     | 1.36     | 50.48    | 1.6          | 2.32         | 1.84         | 1.88         | 1.44         | 1.56\n",
       "10   | 57912.2     | 1.53191  | 47.5106  | 1.25532      | 2.3617       | 1.76596      | 1.85106      | 1.48936      | 1.7234\n",
       "... (10 rows omitted)"
      ]
     },
     "execution_count": 18,
     "metadata": {},
     "output_type": "execute_result"
    }
   ],
   "source": [
    "grouped_educ"
   ]
  },
  {
   "cell_type": "code",
   "execution_count": 19,
   "metadata": {},
   "outputs": [
    {
     "data": {
      "text/html": [
       "<table border=\"1\" class=\"dataframe\">\n",
       "    <thead>\n",
       "        <tr>\n",
       "            <th>EDUC</th> <th>CASEID mean</th> <th>SEX mean</th> <th>AGE mean</th> <th>NATEDUC mean</th> <th>NATFARE mean</th> <th>NATROAD mean</th> <th>NATMASS mean</th> <th>NATHEAL mean</th> <th>NATENVIR mean</th>\n",
       "        </tr>\n",
       "    </thead>\n",
       "    <tbody>\n",
       "        <tr>\n",
       "            <td>0   </td> <td>58740.8    </td> <td>1.6     </td> <td>58.8    </td> <td>1.6         </td> <td>1.4         </td> <td>1.8         </td> <td>2.2         </td> <td>1.4         </td> <td>2.2          </td>\n",
       "        </tr>\n",
       "        <tr>\n",
       "            <td>1   </td> <td>58356      </td> <td>2       </td> <td>34      </td> <td>1           </td> <td>1           </td> <td>2           </td> <td>2           </td> <td>2           </td> <td>1            </td>\n",
       "        </tr>\n",
       "        <tr>\n",
       "            <td>3   </td> <td>57767.8    </td> <td>1.83333 </td> <td>61.3333 </td> <td>2           </td> <td>2.16667     </td> <td>2.33333     </td> <td>1.66667     </td> <td>1.83333     </td> <td>2            </td>\n",
       "        </tr>\n",
       "        <tr>\n",
       "            <td>4   </td> <td>59178      </td> <td>1       </td> <td>76      </td> <td>2           </td> <td>2           </td> <td>2           </td> <td>2           </td> <td>2           </td> <td>2            </td>\n",
       "        </tr>\n",
       "        <tr>\n",
       "            <td>5   </td> <td>57909.5    </td> <td>1.5     </td> <td>47      </td> <td>1.5         </td> <td>1.75        </td> <td>1.75        </td> <td>1.5         </td> <td>1.5         </td> <td>1.75         </td>\n",
       "        </tr>\n",
       "        <tr>\n",
       "            <td>6   </td> <td>57865.6    </td> <td>1.66667 </td> <td>47.1905 </td> <td>1.52381     </td> <td>2.09524     </td> <td>2.38095     </td> <td>1.95238     </td> <td>1.38095     </td> <td>1.47619      </td>\n",
       "        </tr>\n",
       "        <tr>\n",
       "            <td>7   </td> <td>58266.3    </td> <td>1       </td> <td>51.3333 </td> <td>1           </td> <td>2.33333     </td> <td>1           </td> <td>1.66667     </td> <td>1           </td> <td>1.66667      </td>\n",
       "        </tr>\n",
       "        <tr>\n",
       "            <td>8   </td> <td>58477.6    </td> <td>1.58824 </td> <td>49.6471 </td> <td>1.41176     </td> <td>2.23529     </td> <td>2           </td> <td>1.70588     </td> <td>1.58824     </td> <td>1.52941      </td>\n",
       "        </tr>\n",
       "        <tr>\n",
       "            <td>9   </td> <td>58652.6    </td> <td>1.36    </td> <td>50.48   </td> <td>1.6         </td> <td>2.32        </td> <td>1.84        </td> <td>1.88        </td> <td>1.44        </td> <td>1.56         </td>\n",
       "        </tr>\n",
       "        <tr>\n",
       "            <td>10  </td> <td>57912.2    </td> <td>1.53191 </td> <td>47.5106 </td> <td>1.25532     </td> <td>2.3617      </td> <td>1.76596     </td> <td>1.85106     </td> <td>1.48936     </td> <td>1.7234       </td>\n",
       "        </tr>\n",
       "    </tbody>\n",
       "</table>\n",
       "<p>... (10 rows omitted)</p>"
      ],
      "text/plain": [
       "EDUC | CASEID mean | SEX mean | AGE mean | NATEDUC mean | NATFARE mean | NATROAD mean | NATMASS mean | NATHEAL mean | NATENVIR mean\n",
       "0    | 58740.8     | 1.6      | 58.8     | 1.6          | 1.4          | 1.8          | 2.2          | 1.4          | 2.2\n",
       "1    | 58356       | 2        | 34       | 1            | 1            | 2            | 2            | 2            | 1\n",
       "3    | 57767.8     | 1.83333  | 61.3333  | 2            | 2.16667      | 2.33333      | 1.66667      | 1.83333      | 2\n",
       "4    | 59178       | 1        | 76       | 2            | 2            | 2            | 2            | 2            | 2\n",
       "5    | 57909.5     | 1.5      | 47       | 1.5          | 1.75         | 1.75         | 1.5          | 1.5          | 1.75\n",
       "6    | 57865.6     | 1.66667  | 47.1905  | 1.52381      | 2.09524      | 2.38095      | 1.95238      | 1.38095      | 1.47619\n",
       "7    | 58266.3     | 1        | 51.3333  | 1            | 2.33333      | 1            | 1.66667      | 1            | 1.66667\n",
       "8    | 58477.6     | 1.58824  | 49.6471  | 1.41176      | 2.23529      | 2            | 1.70588      | 1.58824      | 1.52941\n",
       "9    | 58652.6     | 1.36     | 50.48    | 1.6          | 2.32         | 1.84         | 1.88         | 1.44         | 1.56\n",
       "10   | 57912.2     | 1.53191  | 47.5106  | 1.25532      | 2.3617       | 1.76596      | 1.85106      | 1.48936      | 1.7234\n",
       "... (10 rows omitted)"
      ]
     },
     "execution_count": 19,
     "metadata": {},
     "output_type": "execute_result"
    }
   ],
   "source": [
    "grouped_educ"
   ]
  },
  {
   "cell_type": "code",
   "execution_count": 15,
   "metadata": {
    "scrolled": true
   },
   "outputs": [
    {
     "data": {
      "image/png": "[encoded data removed]",
      "text/plain": [
       "<Figure size 432x288 with 1 Axes>"
      ]
     },
     "metadata": {
      "needs_background": "light"
     },
     "output_type": "display_data"
    }
   ],
   "source": [
    "grouped_educ = gss_survey_data.group(\"EDUC\", np.mean)\n",
    "plt.scatter(grouped_educ[\"EDUC\"], grouped_educ[\"NATEDUC mean\"])\n",
    "plt.show()"
   ]
  },
  {
   "cell_type": "code",
   "execution_count": 16,
   "metadata": {},
   "outputs": [
    {
     "data": {
      "application/vnd.jupyter.widget-view+json": {
       "model_id": "ce78b220babb483693a35be21d0ea407",
       "version_major": 2,
       "version_minor": 0
      },
      "text/plain": [
       "interactive(children=(IntSlider(value=-25, description='m', max=0, min=-50), IntSlider(value=150, description=…"
      ]
     },
     "metadata": {},
     "output_type": "display_data"
    }
   ],
   "source": [
    "def squared_error(ys_orig,ys_line):\n",
    "    return sum((ys_line - ys_orig) * (ys_line - ys_orig))\n",
    "\n",
    "def coefficient_of_determination(ys_orig,ys_line):\n",
    "    y_mean_line = [np.mean(ys_orig) for y in ys_orig]\n",
    "    squared_error_regr = squared_error(ys_orig, ys_line)\n",
    "    squared_error_y_mean = squared_error(ys_orig, y_mean_line)\n",
    "    return (1 - (squared_error_regr/squared_error_y_mean))\n",
    "\n",
    "@interact(m=(-50, 0), c=(100, 200))\n",
    "def g(m, c):\n",
    "    est = m/1000*grouped_educ[\"EDUC\"] + c/100\n",
    "    plt.plot(grouped_educ[\"EDUC\"], grouped_educ[\"NATEDUC mean\"], 'o', label='Original data')\n",
    "    plt.plot(grouped_educ[\"EDUC\"], est, 'r', label='Fitted line')\n",
    "    plt.show()\n",
    "    \n",
    "    return \"y=\"+str(m/1000)+\"x+\"+str(c/100)+\"     r^2=\"+str(coefficient_of_determination(grouped_educ[\"NATEDUC mean\"], est))"
   ]
  },
  {
   "cell_type": "code",
   "execution_count": 20,
   "metadata": {
    "scrolled": true
   },
   "outputs": [
    {
     "name": "stdout",
     "output_type": "stream",
     "text": [
      "regression line : y=-0.0173075319239169x + 1.574827814793762\n",
      "r^2 value = 0.161051339483865\n"
     ]
    },
    {
     "data": {
      "image/png": "[encoded data removed]",
      "text/plain": [
       "<Figure size 432x288 with 1 Axes>"
      ]
     },
     "metadata": {
      "needs_background": "light"
     },
     "output_type": "display_data"
    }
   ],
   "source": [
    "m, c, r_value, p_value, std_err = stats.linregress(grouped_educ[\"EDUC\"], grouped_educ[\"NATEDUC mean\"])\n",
    "plt.plot(grouped_educ[\"EDUC\"], grouped_educ[\"NATEDUC mean\"], 'o', label='Original data')\n",
    "plt.plot(grouped_educ[\"EDUC\"], m*grouped_educ[\"EDUC\"] + c, 'r', label='Fitted line')\n",
    "\n",
    "print(\"regression line : y=\" + str(m) +\"x + \" + str(c))\n",
    "print(\"r^2 value = \"+ str(r_value**2))\n",
    "plt.show()"
   ]
  },
  {
   "cell_type": "markdown",
   "metadata": {},
   "source": [
    "___\n",
    "## Survey\n",
    "\n",
    "Have any feedback about this notebook? Please fill out our survey:\n",
    "\n",
    "https://docs.google.com/forms/d/e/1FAIpQLSe54U3E64kYFWwQHSUpAvWYMuJOdKzbHDZjPa3nMUlHSSs0PQ/viewform"
   ]
  },
  {
   "cell_type": "markdown",
   "metadata": {},
   "source": [
    "---\n",
    "\n",
    "## Bibliography"
   ]
  },
  {
   "cell_type": "markdown",
   "metadata": {},
   "source": [
    "Cite sources in this format, separated with bullet points:\n",
    "\n",
    "<b>Format</b>: `Author` - `How source was used`. `URL`\n",
    "\n",
    "Example:\n",
    "\n",
    "- John Denero - Adapted NLP techniques. https://denero.org"
   ]
  },
  {
   "cell_type": "markdown",
   "metadata": {},
   "source": [
    "---\n",
    "Notebook developed by: X, X, X\n",
    "\n",
    "Data Science Modules: http://data.berkeley.edu/education/modules\n"
   ]
  }
 ],
 "metadata": {
  "anaconda-cloud": {},
  "kernelspec": {
   "display_name": "Python 3",
   "language": "python",
   "name": "python3"
  },
  "language_info": {
   "codemirror_mode": {
    "name": "ipython",
    "version": 3
   },
   "file_extension": ".py",
   "mimetype": "text/x-python",
   "name": "python",
   "nbconvert_exporter": "python",
   "pygments_lexer": "ipython3",
   "version": "3.6.7"
  }
 },
 "nbformat": 4,
 "nbformat_minor": 1
}
