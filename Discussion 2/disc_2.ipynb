{
 "cells": [
  {
   "cell_type": "markdown",
   "metadata": {},
   "source": [
    "# [SOC-5] Analysis of Quantitative Data Discussion\n",
    "\n",
    "---\n",
    "\n",
    "*Estimated Time: 50 minutes*\n",
    "\n",
    "---\n",
    "\n",
    "### Topics Covered\n",
    "- Chi-Square Statistic\n",
    "- t Tests\n",
    "- Linear Least-squares Regression\n",
    "    - R Statistic\n",
    "\n",
    "### Table of Contents\n",
    "\n",
    "[The Data](GSS 2014 data)<br>\n",
    "\n",
    "[Context]<br>\n",
    "\n",
    "1 - [Section 1](Chi-Square Statistic)<br>\n",
    "\n",
    "2 - [Section 2](t Tests)<br>\n",
    "\n",
    "3 - [Section 3](Linear Least-squares Regression)<br>"
   ]
  },
  {
   "cell_type": "code",
   "execution_count": null,
   "metadata": {},
   "outputs": [],
   "source": [
    "from datascience import *\n",
    "%matplotlib inline\n",
    "from scipy import stats\n",
    "import numpy as np\n",
    "import matplotlib.pyplot as plt\n",
    "from ipywidgets import interact, interactive, fixed, interact_manual\n",
    "import ipywidgets as widgets"
   ]
  },
  {
   "cell_type": "markdown",
   "metadata": {},
   "source": [
    "---\n",
    "\n",
    "## The Data <a id='data'></a>\n",
    "Explanation of the data the students will be working with. \n",
    "\n",
    "<b>Example</b>: In this notebook, you'll be working with ..............\n"
   ]
  },
  {
   "cell_type": "code",
   "execution_count": null,
   "metadata": {
    "scrolled": true
   },
   "outputs": [],
   "source": [
    "gss_survey_data = Table.read_table(\"Data/GSS_2014_data.csv\")\n",
    "\n",
    "gss_survey_data = gss_survey_data.where(\"AGE\", are.between('0','89'))\n",
    "gss_survey_data = gss_survey_data.where(\"SEX\", are.between_or_equal_to('1','2'))\n",
    "gss_survey_data = gss_survey_data.where(\"EDUC\", are.between_or_equal_to('0','96'))\n",
    "gss_survey_data = gss_survey_data.where(\"NATEDUC\", are.between_or_equal_to('1','4'))\n",
    "gss_survey_data = gss_survey_data.where(\"NATFARE\", are.between_or_equal_to('1','4'))\n",
    "gss_survey_data = gss_survey_data.where(\"NATROAD\", are.between_or_equal_to('1','4'))\n",
    "gss_survey_data = gss_survey_data.where(\"NATMASS\", are.between_or_equal_to('1','4'))\n",
    "gss_survey_data = gss_survey_data.where(\"NATHEAL\", are.between_or_equal_to('1','4'))\n",
    "gss_survey_data = gss_survey_data.where(\"NATENVIR\", are.between_or_equal_to('1','4'))\n",
    "\n",
    "for label in gss_survey_data.labels:\n",
    "    gss_survey_data = gss_survey_data.with_column(label, gss_survey_data.column(label).astype(int))\n",
    "    \n",
    "gss_survey_data"
   ]
  },
  {
   "cell_type": "markdown",
   "metadata": {},
   "source": [
    "## Section 1: Chi-Square Statistic  <a id='section 1'></a>"
   ]
  },
  {
   "cell_type": "markdown",
   "metadata": {},
   "source": [
    "Intro to section 1 here."
   ]
  },
  {
   "cell_type": "code",
   "execution_count": null,
   "metadata": {},
   "outputs": [],
   "source": [
    "contigTable = gss_survey_data.groups([\"NATMASS\", \"NATENVIR\"]).pivot(\"NATMASS\", \"NATENVIR\", values=\"count\", collect=np.sum)\n",
    "contigTable = contigTable.with_column(\"total\", [np.sum(list(contigTable.row(n))[1:]) for n in np.arange(0, len(contigTable)-1)])\n",
    "contigTable = contigTable.with_row([\"total\", 610, 795, 130, 1535])\n",
    "contigTable"
   ]
  },
  {
   "cell_type": "code",
   "execution_count": null,
   "metadata": {},
   "outputs": [],
   "source": [
    "expected = [[contigTable.column(\"total\")[row]*(contigTable.column(col)[3]/1535) for col in [\"1\", \"2\", \"3\"]] for row in [0, 1, 2]]\n",
    "observed = [[contigTable.column(col)[row] for col in [\"1\", \"2\", \"3\"]] for row in [0, 1, 2]]\n",
    "expected = np.concatenate(expected).ravel()\n",
    "observed = np.concatenate(observed).ravel()\n",
    "\n",
    "chi_squared = np.sum((expected-observed)**2/expected)\n",
    "degree_freedom = 4\n",
    "\n",
    "print(\"chi-squared statistic = \" + str(chi_squared))\n",
    "print(\"degrees of freedom = \" + str(degree_freedom))"
   ]
  },
  {
   "cell_type": "markdown",
   "metadata": {},
   "source": [
    "The critical chi-squared statistic for a 0.05 probability level (p value) and a degree of freedom of 4 is 9.488. Knowing this, is there a significant correlation between NATENVIR and NATMASS? Explain your answer."
   ]
  },
  {
   "cell_type": "markdown",
   "metadata": {},
   "source": [
    "---"
   ]
  },
  {
   "cell_type": "markdown",
   "metadata": {},
   "source": [
    "## Section 2: t tests <a id='section 2'></a>"
   ]
  },
  {
   "cell_type": "markdown",
   "metadata": {},
   "source": [
    "Intro to section 2 here."
   ]
  },
  {
   "cell_type": "code",
   "execution_count": null,
   "metadata": {},
   "outputs": [],
   "source": [
    "lst = [\"NATEDUC\", \"NATFARE\", \"NATROAD\", \"NATMASS\", \"NATHEAL\", \"NATENVIR\"]\n",
    "females = gss_survey_data.where(\"SEX\", are.equal_to(2))\n",
    "data = [females[col] for col in lst]\n",
    "mean_values = [np.mean(col) for col in data]\n",
    "std_values = [np.std(col) for col in data]\n",
    "means_female = Table().with_column(\"category (female)\", lst).with_columns(\"mean\", mean_values, \"standard deviation\", std_values)\n",
    "\n",
    "print(\"female sample size = \" + str(females.num_rows))\n",
    "means_female"
   ]
  },
  {
   "cell_type": "code",
   "execution_count": null,
   "metadata": {
    "scrolled": true
   },
   "outputs": [],
   "source": [
    "males = gss_survey_data.where(\"SEX\", are.equal_to(1))\n",
    "data = [males[col] for col in lst]\n",
    "mean_values = [np.mean(col) for col in data]\n",
    "std_values = [np.std(col) for col in data]\n",
    "means_male = Table().with_column(\"category (male)\", lst).with_column(\"mean\", mean_values, \"standard deviation\", std_values)\n",
    "\n",
    "print(\"male sample size = \" + str(males.num_rows))\n",
    "means_male"
   ]
  },
  {
   "cell_type": "code",
   "execution_count": null,
   "metadata": {
    "scrolled": true
   },
   "outputs": [],
   "source": [
    "s_p = ((females.num_rows - 1)*(0.56339)**2 + (males.num_rows - 1)*(0.602806)**2)/(males.num_rows + females.num_rows - 2)**.5\n",
    "t = (1.28996 - 1.36401)/(s_p*(1/females.num_rows + 1/males.num_rows)**.5)\n",
    "print(\"t value = \" + str(t))"
   ]
  },
  {
   "cell_type": "markdown",
   "metadata": {},
   "source": [
    "The critical t value for siginificance level of 0.05 and degrees of freedom of 1533 (= total female sample + total male sample - 2) is 1.645848. Knowing this, what can we say about our null hypothesis?"
   ]
  },
  {
   "cell_type": "markdown",
   "metadata": {},
   "source": [
    "## Section 3: Linear Regression <a id='section 3'></a>"
   ]
  },
  {
   "cell_type": "markdown",
   "metadata": {},
   "source": [
    "Intro to section 3 here."
   ]
  },
  {
   "cell_type": "markdown",
   "metadata": {},
   "source": [
    "### R statistic <a id='subsection 1'></a>"
   ]
  },
  {
   "cell_type": "markdown",
   "metadata": {},
   "source": [
    "Intro to subsection 1 here."
   ]
  },
  {
   "cell_type": "code",
   "execution_count": null,
   "metadata": {},
   "outputs": [],
   "source": [
    "plt.scatter(gss_survey_data[\"AGE\"], gss_survey_data[\"EDUC\"])\n",
    "plt.show()"
   ]
  },
  {
   "cell_type": "code",
   "execution_count": null,
   "metadata": {},
   "outputs": [],
   "source": [
    "m, c, r_value, p_value, std_err = stats.linregress(gss_survey_data[\"AGE\"], gss_survey_data[\"EDUC\"])\n",
    "plt.plot(gss_survey_data[\"AGE\"], gss_survey_data[\"EDUC\"], 'o', label='Original data')\n",
    "plt.plot(gss_survey_data[\"AGE\"], m*gss_survey_data[\"AGE\"] + c, 'r', label='Fitted line')\n",
    "\n",
    "print(\"regression line : y=\" + str(m) +\"x + \" + str(c))\n",
    "print(\"r value = \"+ str(r_value))\n",
    "plt.show()"
   ]
  },
  {
   "cell_type": "code",
   "execution_count": null,
   "metadata": {
    "scrolled": true
   },
   "outputs": [],
   "source": [
    "grouped_educ = gss_survey_data.group(\"EDUC\", np.mean)\n",
    "plt.scatter(grouped_educ[\"EDUC\"], grouped_educ[\"NATEDUC mean\"])\n",
    "plt.show()"
   ]
  },
  {
   "cell_type": "code",
   "execution_count": null,
   "metadata": {},
   "outputs": [],
   "source": [
    "def squared_error(ys_orig,ys_line):\n",
    "    return sum((ys_line - ys_orig) * (ys_line - ys_orig))\n",
    "\n",
    "def coefficient_of_determination(ys_orig,ys_line):\n",
    "    y_mean_line = [np.mean(ys_orig) for y in ys_orig]\n",
    "    squared_error_regr = squared_error(ys_orig, ys_line)\n",
    "    squared_error_y_mean = squared_error(ys_orig, y_mean_line)\n",
    "    return (1 - (squared_error_regr/squared_error_y_mean))\n",
    "\n",
    "@interact(m=(-50, 0), c=(100, 200))\n",
    "def g(m, c):\n",
    "    est = m/1000*grouped_educ[\"EDUC\"] + c/100\n",
    "    plt.plot(grouped_educ[\"EDUC\"], grouped_educ[\"NATEDUC mean\"], 'o', label='Original data')\n",
    "    plt.plot(grouped_educ[\"EDUC\"], est, 'r', label='Fitted line')\n",
    "    plt.show()\n",
    "    \n",
    "    return \"y=\"+str(m/1000)+\"x+\"+str(c/100)+\"     r^2=\"+str(coefficient_of_determination(grouped_educ[\"NATEDUC mean\"], est))"
   ]
  },
  {
   "cell_type": "code",
   "execution_count": null,
   "metadata": {
    "scrolled": true
   },
   "outputs": [],
   "source": [
    "m, c, r_value, p_value, std_err = stats.linregress(grouped_educ[\"EDUC\"], grouped_educ[\"NATEDUC mean\"])\n",
    "plt.plot(grouped_educ[\"EDUC\"], grouped_educ[\"NATEDUC mean\"], 'o', label='Original data')\n",
    "plt.plot(grouped_educ[\"EDUC\"], m*grouped_educ[\"EDUC\"] + c, 'r', label='Fitted line')\n",
    "\n",
    "print(\"regression line : y=\" + str(m) +\"x + \" + str(c))\n",
    "print(\"r^2 value = \"+ str(r_value**2))\n",
    "plt.show()"
   ]
  },
  {
   "cell_type": "markdown",
   "metadata": {},
   "source": [
    "___\n",
    "## Survey\n",
    "\n",
    "Have any feedback about this notebook? Please fill out our survey:\n",
    "\n",
    "https://docs.google.com/forms/d/e/1FAIpQLSe54U3E64kYFWwQHSUpAvWYMuJOdKzbHDZjPa3nMUlHSSs0PQ/viewform"
   ]
  },
  {
   "cell_type": "markdown",
   "metadata": {},
   "source": [
    "---\n",
    "\n",
    "## Bibliography"
   ]
  },
  {
   "cell_type": "markdown",
   "metadata": {},
   "source": [
    "Cite sources in this format, separated with bullet points:\n",
    "\n",
    "<b>Format</b>: `Author` - `How source was used`. `URL`\n",
    "\n",
    "Example:\n",
    "\n",
    "- John Denero - Adapted NLP techniques. https://denero.org"
   ]
  },
  {
   "cell_type": "markdown",
   "metadata": {},
   "source": [
    "---\n",
    "Notebook developed by: X, X, X\n",
    "\n",
    "Data Science Modules: http://data.berkeley.edu/education/modules\n"
   ]
  }
 ],
 "metadata": {
  "anaconda-cloud": {},
  "kernelspec": {
   "display_name": "Python 3",
   "language": "python",
   "name": "python3"
  },
  "language_info": {
   "codemirror_mode": {
    "name": "ipython",
    "version": 3
   },
   "file_extension": ".py",
   "mimetype": "text/x-python",
   "name": "python",
   "nbconvert_exporter": "python",
   "pygments_lexer": "ipython3",
   "version": "3.6.7"
  }
 },
 "nbformat": 4,
 "nbformat_minor": 1
}
